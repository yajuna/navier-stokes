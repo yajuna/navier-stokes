{
  "cells": [
    {
      "cell_type": "markdown",
      "metadata": {
        "id": "view-in-github",
        "colab_type": "text"
      },
      "source": [
        "<a href=\"https://colab.research.google.com/github/yajuna/navier-stokes/blob/master/navier_stokes_tf2.ipynb\" target=\"_parent\"><img src=\"https://colab.research.google.com/assets/colab-badge.svg\" alt=\"Open In Colab\"/></a>"
      ]
    },
    {
      "cell_type": "markdown",
      "metadata": {
        "id": "dsdTAFcmWIsl"
      },
      "source": [
        "# This notebook implements the physics informed neural network methodology proposed by [Raissi et al](https://github.com/maziarraissi/PINNs), and is a Tensorflow 2 modification based on [Jan Blechschmidt and Oliver G. Ernst](https://github.com/janblechschmidt/PDEsByNNs/blob/main/PINN_Solver.ipynb).\n",
        "\n",
        "In this notebook, we construct a physics informed neural network to solve the Navier-Stokes equation, and validate the methodology using our own simulated data generated from OpenFoam\n",
        "\n",
        "This work gives an idea for us to apply the PINN methodology to measured data to compute the solution to Navier-Stokes equation in the future."
      ]
    },
    {
      "cell_type": "markdown",
      "metadata": {
        "id": "4qS_CUXuYaeD"
      },
      "source": [
        "### Import libraries. We mainly use Python's `Numpy` library, and the `Tensorflow` library. Visualization is performed by `Matplotlib` library."
      ]
    },
    {
      "cell_type": "code",
      "execution_count": 478,
      "metadata": {
        "colab": {
          "base_uri": "https://localhost:8080/"
        },
        "id": "7qJZlBC2TKCC",
        "outputId": "b4c802b3-b026-4b0b-fd73-a445a7fcc9a2"
      },
      "outputs": [
        {
          "output_type": "stream",
          "name": "stdout",
          "text": [
            "Python 3 version is 3.10.12 (main, Nov 20 2023, 15:14:05) [GCC 11.4.0]\n",
            "Numpy version is 1.25.2\n",
            "Tensorflow version is 2.15.0\n",
            "Matplotlib version is 3.7.1\n"
          ]
        }
      ],
      "source": [
        "import tensorflow as tf\n",
        "import numpy as np\n",
        "\n",
        "import pandas\n",
        "import scipy.io\n",
        "\n",
        "from time import time\n",
        "\n",
        "############ visualization\n",
        "import matplotlib.pyplot as plt\n",
        "from mpl_toolkits.mplot3d import Axes3D\n",
        "from matplotlib import cm\n",
        "from matplotlib.ticker import LinearLocator, FormatStrFormatter\n",
        "\n",
        "from scipy.interpolate import griddata\n",
        "import matplotlib.pylab as plt\n",
        "############\n",
        "\n",
        "tf.experimental.numpy.experimental_enable_numpy_behavior()\n",
        "\n",
        "import sys\n",
        "print(\"Python 3 version is\", sys.version)\n",
        "print(\"Numpy version is\", np.__version__)\n",
        "print(\"Tensorflow version is\", tf.__version__)\n",
        "import matplotlib\n",
        "print(\"Matplotlib version is\", matplotlib.__version__)"
      ]
    },
    {
      "cell_type": "markdown",
      "metadata": {
        "id": "bh45NChGLit-"
      },
      "source": [
        "## Read generated data by OpenFoam from Google Drive"
      ]
    },
    {
      "cell_type": "code",
      "execution_count": 479,
      "metadata": {
        "id": "xe8KdO-pK0Py",
        "colab": {
          "base_uri": "https://localhost:8080/"
        },
        "outputId": "45c32530-9949-4890-e5c0-63af60c9e8cc"
      },
      "outputs": [
        {
          "output_type": "stream",
          "name": "stdout",
          "text": [
            "Drive already mounted at /content/drive; to attempt to forcibly remount, call drive.mount(\"/content/drive\", force_remount=True).\n"
          ]
        }
      ],
      "source": [
        "from google.colab import drive\n",
        "drive.mount('/content/drive')"
      ]
    },
    {
      "cell_type": "code",
      "execution_count": 480,
      "metadata": {
        "id": "OWZKwooKLucz",
        "colab": {
          "base_uri": "https://localhost:8080/"
        },
        "outputId": "95c1cada-de0b-4cf6-ada2-f65bf9d89fa7"
      },
      "outputs": [
        {
          "output_type": "stream",
          "name": "stdout",
          "text": [
            "/content/drive/My Drive\n"
          ]
        }
      ],
      "source": [
        "%cd /content/drive/My Drive/\n",
        "# OpenFoam, full\n",
        "# data = scipy.io.loadmat(\"data_cube5.mat\")\n",
        "# Openfoam, trimmed\n",
        "data = scipy.io.loadmat(\"data_cube_v0509.mat\")\n",
        "# Raissi's original data\n",
        "# data = scipy.io.loadmat(\"cylinder_nektar_wake.mat\")"
      ]
    },
    {
      "cell_type": "markdown",
      "metadata": {
        "id": "7VlAgJhHajQe"
      },
      "source": [
        "### Define data type to be `float64`; set random seed for reproducibility."
      ]
    },
    {
      "cell_type": "code",
      "execution_count": 481,
      "metadata": {
        "id": "B_gYHSTFTZHL"
      },
      "outputs": [],
      "source": [
        "# Set data type\n",
        "DTYPE='float64'\n",
        "tf.keras.backend.set_floatx(DTYPE)\n",
        "\n",
        "# Set random seed for reproducible results\n",
        "tf.random.set_seed(0)"
      ]
    },
    {
      "cell_type": "markdown",
      "metadata": {
        "id": "4_ktA5V_aq_l"
      },
      "source": [
        "### Import data files. These data are generated by the OpenFoam CFD software.\n",
        "\n",
        "The data corresponds to the solution of the Navier-Stokes equation with the following boundary conditions of the [tmin, tmax] by [spacemin,spacemax] domain:\n",
        "\n",
        "1. left boundary: uniform free stream velocity\n",
        "2. right boundary: zero pressure outflow, located downstream of the cylinder\n",
        "3. top and bottom: periodic condition\n",
        "\n",
        "The notations for the dataset are explained below:\n",
        "\n",
        "`N`: number of grid points in space\n",
        "`T`: number of time steps\n",
        "\n",
        "`U_star`: $x$- component of the velocity field $u$ and $y$- component of the velocity field $v$ values, for all U and T values. Read to `UU` and `VV`, and later reshaped to `u` and `v`. Each of size NT.\n",
        "\n",
        "`P_star`: pressure $p$ for all N and T. Read to `PP`, then reshaped to `p`. Each of size NT.\n",
        "\n",
        "`t`: time where data are recorded, of size T. Broadcasted to size NT.\n",
        "\n",
        "`X_star`: spatial variables where data are recorded, including both $x$ and $y$. Read to `XX` and `YY`, then reshaped to `x` and `y`. Each broadcasted to size NT.\n",
        "\n",
        "Training data was labeled `*_train`, with spatial, temporal, as well as velocity and pressure data. The training data was chosen randomly from the full dataset explained above, of size `N_train`.\n",
        "\n",
        "Testing data was labeled `*_star`, chosen at a time step `snap`.\n",
        "\n",
        "Input of the neural network is `X_train` and `data_train`, with $x$, $y$, and $t$ variables, as well as $u$, $v$, and $p$. Testing data is similar.\n",
        "\n",
        "Training data consist of 5000 data points, chosen from NT points, denoted by `N_train`. Testing data was chosen at a random time snap, denoted by `snap`."
      ]
    },
    {
      "cell_type": "code",
      "execution_count": 482,
      "metadata": {
        "id": "ZHgN4u9mTge_",
        "colab": {
          "base_uri": "https://localhost:8080/"
        },
        "outputId": "81ad36e5-db36-4055-ad28-3bb88760f561"
      },
      "outputs": [
        {
          "output_type": "stream",
          "name": "stdout",
          "text": [
            "Size of x: N and size of t: T 8990 149\n",
            "Range of U_star, P_star, t, X_star -0.57702 1.4437 -0.5035 0.66001 7599 29651 -15.0 15.0\n",
            "min idx is 17360 max idx is 1312627\n",
            "-4.0 4.0 -15.0 15.0\n"
          ]
        }
      ],
      "source": [
        "N_train = 50\n",
        "Num_layer = 4\n",
        "Epoch = 500\n",
        "\n",
        "# define training and testing data\n",
        "U_star = data['U_star'] # N x 2 x T\n",
        "P_star = data['p_star'] # N x T\n",
        "t = data['t'] # T x 1\n",
        "X_star = data['X_star'] # N x 2\n",
        "\n",
        "N = X_star.shape[0]\n",
        "T = t.shape[0]\n",
        "\n",
        "print('Size of x: N and size of t: T', N, T)\n",
        "print('Range of U_star, P_star, t, X_star', U_star.min(), U_star.max(), P_star.min(), P_star.max(), t.min(), t.max(), X_star.min(), X_star.max())\n",
        "\n",
        "#tile independent variable Data (like meshgrid) to size N by T\n",
        "XX = np.tile(X_star[:,0:1], (1,T)) # N x T\n",
        "YY = np.tile(X_star[:,1:2], (1,T)) # N x T\n",
        "TT = np.tile(t, (1,N)).T # N x T\n",
        "\n",
        "UU = U_star[:,0,:] # N x T\n",
        "VV = U_star[:,1,:] # N x T\n",
        "PP = P_star # N x T\n",
        "\n",
        "x = XX.flatten()[:,None] # NT x 1\n",
        "y = YY.flatten()[:,None] # NT x 1\n",
        "t = TT.flatten()[:,None] # NT x 1\n",
        "\n",
        "u = UU.flatten()[:,None] # NT x 1\n",
        "v = VV.flatten()[:,None] # NT x 1\n",
        "p = PP.flatten()[:,None] # NT x 1\n",
        "\n",
        "############################################################\n",
        "######################## Data ##############################\n",
        "############################################################\n",
        "# Training Data\n",
        "idx = np.random.choice(N*T, N_train, replace=False)\n",
        "print('min idx is', idx.min(), \"max idx is\", idx.max())\n",
        "\n",
        "x_train = x[idx,:]\n",
        "y_train = y[idx,:]\n",
        "t_train = t[idx,:]\n",
        "\n",
        "u_train = u[idx,:]\n",
        "v_train = v[idx,:]\n",
        "p_train = p[idx,:]\n",
        "\n",
        "\n",
        "# make training data\n",
        "X_train = tf.concat([x_train,y_train,t_train], axis = 1)\n",
        "data_train = tf.concat([u_train,v_train,p_train], axis = 1)\n",
        "\n",
        "print(np.min(YY), np.max(YY), np.min(XX), np.max(XX))"
      ]
    },
    {
      "cell_type": "code",
      "source": [
        "# plot allocation of points\n",
        "\n",
        "x = x_train\n",
        "y = y_train\n",
        "\n",
        "fig = plt.figure()\n",
        "ax = fig.add_subplot()\n",
        "ax.scatter(x, y, color='blue', alpha=0.1)\n",
        "\n",
        "ax.set_xlabel('x')\n",
        "ax.set_ylabel('y')\n",
        "ax.set_title('Position of collocation points')\n",
        "\n",
        "plt.savefig('collocation_points.eps', bbox_inches='tight', dpi=300)\n",
        "plt.show()"
      ],
      "metadata": {
        "colab": {
          "base_uri": "https://localhost:8080/",
          "height": 507
        },
        "id": "AwsXUUIItAyg",
        "outputId": "13cb5fa1-2bbb-4dbb-cacc-fdb6de95b56e"
      },
      "execution_count": 483,
      "outputs": [
        {
          "output_type": "stream",
          "name": "stderr",
          "text": [
            "WARNING:matplotlib.backends.backend_ps:The PostScript backend does not support transparency; partially transparent artists will be rendered opaque.\n"
          ]
        },
        {
          "output_type": "display_data",
          "data": {
            "text/plain": [
              "<Figure size 640x480 with 1 Axes>"
            ],
            "image/png": "[encoded data removed]"
          },
          "metadata": {}
        }
      ]
    },
    {
      "cell_type": "markdown",
      "metadata": {
        "id": "wzZjh3Hh93tu"
      },
      "source": [
        "### We define the residual of the PDE. The physics information is given by the governing Navier-Stokes equations:\n",
        "\n",
        "$u_t+1(uu_x + vu_y)=-p_x+0.01(u_{xx}+u_{yy})$\n",
        "\n",
        "$v_t+1(uv_x + vv_y)=-p_y+0.01(v_{xx}+v_{yy})$,\n",
        "\n",
        "here $(x,y)$ denotes the spatial variable, $t$ the temporal variable, $u(t,x,y)$ denotes the $x$-component of the velocity field, $v(t,x,y)$ the y-component, and $p(t,x,y)$ the pressure.\n",
        "\n",
        "We include the following errors in the loss term of the neural network\n",
        "\n",
        "$f = u_t+1(uu_x + vu_y)+p_x-0.01(u_{xx}+u_{yy})$\n",
        "\n",
        "$g = v_t+1(uv_x + vv_y)+p_y-0.01(v_{xx}+v_{yy})$,\n",
        "\n",
        "and we train the neural network by minimizing the loss including the above terms.\n",
        "\n"
      ]
    },
    {
      "cell_type": "code",
      "execution_count": 484,
      "metadata": {
        "id": "-ad4iGrWmJnL"
      },
      "outputs": [],
      "source": [
        "# Define residual of the PDE\n",
        "def fun_r(u, u_t, u_x, u_y, u_xx, u_yy, v, v_t, v_x, v_y, v_xx, v_yy, p_x, p_y):\n",
        "  f = (u * u_x + v * u_y) + p_x - 0.01 * (u_xx + u_yy) + u_t\n",
        "  g = (u * v_x + v * v_y) + p_y - 0.01 * (v_xx + v_yy) + v_t\n",
        "  print('tf.concat([f,g], axis = 1).shape', tf.concat([f,g], axis = 1).shape)\n",
        "  return tf.concat([f,g], axis = 1)"
      ]
    },
    {
      "cell_type": "markdown",
      "metadata": {
        "id": "3iajUNDXUP_B"
      },
      "source": [
        "Initialize the neural network; by default, the neural network has 8 hidden layers, and 20 neurons on each layer.\n",
        "\n"
      ]
    },
    {
      "cell_type": "code",
      "execution_count": 485,
      "metadata": {
        "id": "0AGQveCbUPFn"
      },
      "outputs": [],
      "source": [
        "def init_model(num_hidden_layers=8, num_neurons_per_layer=20):\n",
        "    # Initialize a feedforward neural network\n",
        "    model = tf.keras.Sequential()\n",
        "\n",
        "    # Input is three-dimensional (time + two spatial dimensions)\n",
        "    model.add(tf.keras.Input(3))\n",
        "\n",
        "    # Define lower boundary and upper boundary\n",
        "    x = X_train[:,0:1]\n",
        "    y = X_train[:,1:2]\n",
        "    t = X_train[:,2:3]\n",
        "    lb = tf.constant([np.array(x.min()), np.array(y.min()), np.array(t.min())])\n",
        "    ub = tf.constant([np.array(x.max()), np.array(y.max()), np.array(t.max())])\n",
        "\n",
        "\n",
        "    # Introduce a scaling layer to map input from [lb, ub] to [-1,1]\n",
        "    scaling_layer = tf.keras.layers.Lambda(\n",
        "                lambda x: 2.0*(x - lb)/(ub - lb) - 1.0)\n",
        "    model.add(scaling_layer)\n",
        "\n",
        "    # Append hidden layers\n",
        "    for _ in range(num_hidden_layers):\n",
        "        model.add(tf.keras.layers.Dense(num_neurons_per_layer,\n",
        "            activation=tf.keras.activations.get('tanh'),\n",
        "            kernel_initializer='glorot_normal'))\n",
        "\n",
        "    # Output is two-dimensional: psi and p\n",
        "    model.add(tf.keras.layers.Dense(2))\n",
        "\n",
        "    return model"
      ]
    },
    {
      "cell_type": "code",
      "execution_count": 486,
      "metadata": {
        "id": "kVuZPS6uUf94"
      },
      "outputs": [],
      "source": [
        "def get_r(model, X_train):\n",
        "\n",
        "    # A tf.GradientTape is used to compute derivatives in TensorFlow\n",
        "    with tf.GradientTape(persistent=True) as tape:\n",
        "        # Split t and x to compute partial derivatives\n",
        "        x, y, t = X_train[:, 0:1], X_train[:,1:2], X_train[:,2:3]\n",
        "\n",
        "        # Variables x,y,t are watched during tape\n",
        "        # to compute derivatives\n",
        "        tape.watch(x)\n",
        "        tape.watch(y)\n",
        "        tape.watch(t)\n",
        "\n",
        "        # Determine residual\n",
        "        pp = model(tf.stack([x[:,0],y[:,0],t[:,0]], axis=1))\n",
        "        psi = pp[:,0:1]\n",
        "        p = pp[:,1:2]\n",
        "        # Compute gradients within the GradientTape\n",
        "        # for all needed derivatives\n",
        "        u = tape.gradient(psi, y)\n",
        "        # print(\"max and min of u\", u.max, u.min)\n",
        "        v = -1 * tape.gradient(psi, x)\n",
        "        # print(\"type of v\", type(v))\n",
        "        u_x = tape.gradient(u, x)\n",
        "        # print(\"max and min of u_x\", u_x.max, u_x.min)\n",
        "        u_y = tape.gradient(u, y)\n",
        "        # print(\"max and min of u_y\", u_y.max, u_y.min)\n",
        "        v_x = tape.gradient(v, x)\n",
        "        # print(\"max and min v_x\", v_x.max, v_x.min)\n",
        "        v_y = tape.gradient(v, y)\n",
        "\n",
        "\n",
        "\n",
        "    p_x = tape.gradient(p, x)\n",
        "    p_y = tape.gradient(p, y)\n",
        "\n",
        "    u_t = tape.gradient(u, t)\n",
        "    u_xx = tape.gradient(u_x, x)\n",
        "    u_yy = tape.gradient(u_y, y)\n",
        "\n",
        "    v_t = tape.gradient(v, t)\n",
        "    v_xx = tape.gradient(v_x, x)\n",
        "    v_yy = tape.gradient(v_y, y)\n",
        "\n",
        "    del tape\n",
        "\n",
        "    return fun_r(u, u_t, u_x, u_y, u_xx, u_yy, v, v_t, v_x, v_y, v_xx, v_yy, p_x, p_y)"
      ]
    },
    {
      "cell_type": "code",
      "execution_count": 487,
      "metadata": {
        "id": "BucHRJ9OvAPj"
      },
      "outputs": [],
      "source": [
        "def compute_loss(model, X_train, data_train):\n",
        "\n",
        "    # Compute phi^r\n",
        "    r = get_r(model, X_train)\n",
        "    phi_r = tf.reduce_mean(tf.square(r))\n",
        "\n",
        "    # Initialize loss with physics loss\n",
        "    loss = phi_r\n",
        "\n",
        "    with tf.GradientTape(persistent=True) as tape:\n",
        "        # Split t and x to compute partial derivatives\n",
        "        x, y, t = X_train[:, 0:1], X_train[:,1:2], X_train[:,2:3]\n",
        "\n",
        "        # Variables x,y,t are watched during tape\n",
        "        # to compute derivatives\n",
        "        tape.watch(x)\n",
        "        tape.watch(y)\n",
        "        tape.watch(t)\n",
        "\n",
        "        # Determine residual\n",
        "        pp = model(tf.stack([x[:,0],y[:,0],t[:,0]], axis=1))\n",
        "        psi = pp[:,0:1]\n",
        "    p = pp[:,1:2]\n",
        "##########\n",
        "    u = tape.gradient(psi, y)\n",
        "    v = -1 * tape.gradient(psi, x)\n",
        "    del tape\n",
        "\n",
        "    # Concatenate u, v, and p along with p to match the shape of data_train\n",
        "    data_pred = tf.concat([u, v, p], axis=1)\n",
        "\n",
        "    loss += tf.reduce_mean(tf.square(data_train[:,0:1] - data_pred[:,0:1]))\n",
        "    loss += tf.reduce_mean(tf.square(data_train[:,1:2] - data_pred[:,1:2]))\n",
        "    loss += tf.reduce_mean(tf.square(data_train[:,2:3] - data_pred[:,2:3]))\n",
        "    return loss\n"
      ]
    },
    {
      "cell_type": "code",
      "execution_count": 488,
      "metadata": {
        "id": "h-H_nyrUkELj"
      },
      "outputs": [],
      "source": [
        "def get_grad(model, X_train, data_train):\n",
        "\n",
        "    with tf.GradientTape(persistent=True) as tape:\n",
        "        # This tape is for derivatives with\n",
        "        # respect to trainable variables\n",
        "        tape.watch(model.trainable_variables)\n",
        "        loss = compute_loss(model, X_train, data_train)\n",
        "\n",
        "    g = tape.gradient(loss, model.trainable_variables)\n",
        "    del tape\n",
        "\n",
        "    return loss, g"
      ]
    },
    {
      "cell_type": "code",
      "execution_count": 489,
      "metadata": {
        "id": "uNX1Rw8qlgDO",
        "collapsed": true
      },
      "outputs": [],
      "source": [
        "# Initialize model aka u_\\theta\n",
        "model = init_model(num_hidden_layers=Num_layer)\n",
        "\n",
        "# We choose a piecewise decay of the learning rate, i.e., the\n",
        "# step size in the gradient descent type algorithm\n",
        "# the first 1000 steps use a learning rate of 0.01\n",
        "# from 1000 - 3000: learning rate = 0.001\n",
        "# from 3000 onwards: learning rate = 0.0005\n",
        "\n",
        "lr = tf.keras.optimizers.schedules.PiecewiseConstantDecay([1000,3000],[1e-2,1e-3,5e-4])\n",
        "\n",
        "# Choose the optimizer\n",
        "optim = tf.keras.optimizers.Adam(learning_rate=lr)\n",
        "\n",
        "## Print model summary\n",
        "# model.summary()\n",
        "# tf.keras.utils.plot_model(model, to_file='model_plot.png', show_shapes=True,\n",
        "#                           show_layer_names=True, show_dtype=True,\n",
        "#                           show_layer_activations=True)"
      ]
    },
    {
      "cell_type": "code",
      "execution_count": 490,
      "metadata": {
        "id": "Ot4zR65GlqGt",
        "colab": {
          "base_uri": "https://localhost:8080/"
        },
        "outputId": "1fb66488-7870-4be2-9819-c224df437f80"
      },
      "outputs": [
        {
          "output_type": "stream",
          "name": "stdout",
          "text": [
            "tf.concat([f,g], axis = 1).shape (50, 2)\n",
            "tf.concat([f,g], axis = 1).shape (50, 2)\n",
            "It 00000: loss = 1.43084064e+00\n",
            "It 00050: loss = 1.47962117e-01\n",
            "It 00100: loss = 7.36726275e-02\n",
            "It 00150: loss = 2.25656235e-02\n",
            "It 00200: loss = 5.54259302e-03\n",
            "It 00250: loss = 2.56148829e-03\n",
            "It 00300: loss = 1.58846577e-03\n",
            "It 00350: loss = 1.12951261e-03\n",
            "It 00400: loss = 9.47926759e-04\n",
            "It 00450: loss = 7.06918299e-04\n",
            "It 00500: loss = 6.55014021e-04\n",
            "\n",
            "Computation time: 14.736969709396362 seconds\n"
          ]
        }
      ],
      "source": [
        "from time import time\n",
        "\n",
        "# Define one training step as a TensorFlow function to increase speed of training\n",
        "@tf.function\n",
        "def train_step():\n",
        "    # Compute current loss and gradient w.r.t. parameters\n",
        "    loss, grad_theta = get_grad(model, X_train, data_train)\n",
        "\n",
        "    # Perform gradient descent step\n",
        "    optim.apply_gradients(zip(grad_theta, model.trainable_variables))\n",
        "\n",
        "    return loss\n",
        "\n",
        "# Number of training epochs\n",
        "N = Epoch\n",
        "hist = []\n",
        "\n",
        "# Start timer\n",
        "t0 = time()\n",
        "\n",
        "for i in range(N+1):\n",
        "\n",
        "    loss = train_step()\n",
        "\n",
        "    # Append current loss to hist\n",
        "    hist.append(loss.numpy())\n",
        "\n",
        "    # Output current loss after 50 iterates\n",
        "    if i%50 == 0:\n",
        "        print('It {:05d}: loss = {:10.8e}'.format(i,loss))\n",
        "\n",
        "# Print computation time\n",
        "print('\\nComputation time: {} seconds'.format(time()-t0))"
      ]
    },
    {
      "cell_type": "code",
      "execution_count": 491,
      "metadata": {
        "id": "q4wZ_37TL3o_"
      },
      "outputs": [],
      "source": [
        "model.save(\"navier-stokes-pinn.keras\")"
      ]
    },
    {
      "cell_type": "markdown",
      "metadata": {
        "id": "GL6cbDce0a0b"
      },
      "source": [
        "# Visualization"
      ]
    },
    {
      "cell_type": "markdown",
      "source": [
        "## Plot loss"
      ],
      "metadata": {
        "id": "Zof1AORoCrHj"
      }
    },
    {
      "cell_type": "code",
      "source": [
        "fig = plt.figure(figsize=(9,6))\n",
        "ax = fig.add_subplot(111)\n",
        "plt.rcParams.update({'font.size': 16})\n",
        "ax.semilogy(range(len(hist)), hist,'k-')\n",
        "ax.set_xlabel('$n_{epoch}$')\n",
        "ax.set_ylabel('$Loss$');\n",
        "plt.savefig('figure_loss.eps', bbox_inches='tight', dpi=300);"
      ],
      "metadata": {
        "id": "7JMz8hN5CqhM",
        "colab": {
          "base_uri": "https://localhost:8080/",
          "height": 557
        },
        "outputId": "8f78e676-888a-465d-ec8d-a20e002ae420"
      },
      "execution_count": 492,
      "outputs": [
        {
          "output_type": "display_data",
          "data": {
            "text/plain": [
              "<Figure size 900x600 with 1 Axes>"
            ],
            "image/png": "[encoded data removed]"
          },
          "metadata": {}
        }
      ]
    },
    {
      "cell_type": "markdown",
      "source": [
        "## After the neural network is trained, we test the neural network with other data of Navier-Stokes equations, as they obey the same PDEs, and therefore have the same loss function."
      ],
      "metadata": {
        "id": "6pxFbY5o6dlC"
      }
    },
    {
      "cell_type": "code",
      "source": [
        "## import testing data- a new set that the PINN has not seen.\n",
        "\n",
        "data1 = scipy.io.loadmat(\"data_cube5.mat\")\n",
        "# data1 = scipy.io.loadmat(\"data_cube_v0509.mat\")\n",
        "\n",
        "# define training and testing data\n",
        "U_star1 = data1['U_star'] # N x 2 x T\n",
        "P_star1 = data1['p_star'] # N x T\n",
        "t1 = data1['t'] # T x 1\n",
        "X_star1 = data1['X_star'] # N x 2\n",
        "\n",
        "N1 = X_star1.shape[0]\n",
        "T1 = t1.shape[0]\n",
        "\n",
        "print('Size of traing x: N and size of t: T', N1, T1)\n",
        "\n",
        "TT1 = np.tile(t1, (1,N1)).T # N x T\n",
        "\n",
        "# Test Data -- used in model.predict to test model\n",
        "snap1 = np.array([95])\n",
        "x_star1 = X_star1[:,0:1]\n",
        "y_star1 = X_star1[:,1:2]\n",
        "t_star1 = TT1[:,snap1]\n",
        "print(\"Shapes of testing data\", x_star1.shape, y_star1.shape, t_star1.shape)\n",
        "\n",
        "u_star1 = U_star1[:,0,snap1]\n",
        "v_star1 = U_star1[:,1,snap1]\n",
        "p_star1 = P_star1[:,snap1]\n",
        "\n",
        "# make testing data\n",
        "\n",
        "X_test1 = tf.concat([x_star1,y_star1,t_star1], axis = 1)\n",
        "data_test1 = tf.concat([u_star1,v_star1,p_star1], axis = 1)"
      ],
      "metadata": {
        "colab": {
          "base_uri": "https://localhost:8080/"
        },
        "id": "dhoMIE6i6dOS",
        "outputId": "4334fa3d-10e9-478d-9537-db1d49ccc636"
      },
      "execution_count": 493,
      "outputs": [
        {
          "output_type": "stream",
          "name": "stdout",
          "text": [
            "Size of traing x: N and size of t: T 23768 100\n",
            "Shapes of testing data (23768, 1) (23768, 1) (23768, 1)\n"
          ]
        }
      ]
    },
    {
      "cell_type": "code",
      "source": [
        "with tf.GradientTape(persistent=True) as tape:\n",
        "\n",
        "  x1,y1,t1 = X_test1[:,0:1], X_test1[:,1:2], X_test1[:,2:3]\n",
        "  tape.watch(x1)\n",
        "  tape.watch(y1)\n",
        "  tape.watch(t1)\n",
        "  data_pred1 = model(tf.stack([x1[:,0],y1[:,0],t1[:,0]], axis=1))\n",
        "  psi_pred1 = data_pred1[:,0:1]\n",
        "p_pred1 = data_pred1[:,1:2]\n",
        "u1 = tape.gradient(psi_pred1, y1)\n",
        "v1 = -1 * tape.gradient(psi_pred1, x1)\n",
        "data_pred1 = tf.concat([u1,v1,p_pred1], axis = 1)"
      ],
      "metadata": {
        "id": "qWAe8YuO_HY6"
      },
      "execution_count": 494,
      "outputs": []
    },
    {
      "cell_type": "code",
      "source": [
        "print(\"size of predicted and measured data\", data_test1.shape, data_pred1.shape)\n",
        "\n",
        "error1 = 0\n",
        "error1 += tf.reduce_mean(tf.square(data_test1[:,0:1] - data_pred1[:,0:1]))\n",
        "error1 += tf.reduce_mean(tf.square(data_test1[:,1:2] - data_pred1[:,1:2]))\n",
        "error1 += tf.reduce_mean(tf.square(data_test1[:,2:3] - data_pred1[:,2:3]))\n",
        "print(\"reduced mean square of testing error\", error1)"
      ],
      "metadata": {
        "colab": {
          "base_uri": "https://localhost:8080/"
        },
        "id": "GQjJ4GAk_VLl",
        "outputId": "c0572a18-c579-4afc-eed5-b0b6fd69f89c"
      },
      "execution_count": 495,
      "outputs": [
        {
          "output_type": "stream",
          "name": "stdout",
          "text": [
            "size of predicted and measured data (23768, 3) (23768, 3)\n",
            "reduced mean square of testing error tf.Tensor(0.13548454955555908, shape=(), dtype=float64)\n"
          ]
        }
      ]
    },
    {
      "cell_type": "code",
      "source": [
        "X1 = X_test1[:,0:1]\n",
        "print(\"X.shape = \", X1.shape)\n",
        "Y1 = X_test1[:,1:2]\n",
        "print(\"Y.shape = \", Y1.shape)\n",
        "Z_pred1 = data_pred1[:, 0:1]\n",
        "print(\"Z_pred.shape = \", Z_pred1.shape)\n",
        "Z_test1 = data_test1[:, 0:1]\n",
        "print(\"Z_test.shape = \", Z_test1.shape)\n",
        "\n",
        "X1 = X1.flatten()\n",
        "Y1 = Y1.flatten()\n",
        "Z_pred1 = Z_pred1.flatten()\n",
        "Z_test1 = Z_test1.flatten()\n",
        "\n",
        "nx1 = 10*int(np.sqrt(N1))\n",
        "xg1 = np.linspace(X1.min(), X1.max(), nx1)\n",
        "yg1 = np.linspace(Y1.min(), Y1.max(), nx1)\n",
        "\n",
        "xgrid1, ygrid1 = np.meshgrid(xg1, yg1)\n",
        "\n",
        "ctr_z_pred1 = griddata((X1, Y1), Z_pred1, (xgrid1, ygrid1), method='linear')\n",
        "ctr_z_test1 = griddata((X1, Y1), Z_test1, (xgrid1, ygrid1), method='linear')\n",
        "\n",
        "fig, axs = plt.subplots(2)\n",
        "pred1 = axs[0].contourf(xgrid1, ygrid1, ctr_z_pred1, cmap=cm.coolwarm)\n",
        "test1 = axs[1].contourf(xgrid1, ygrid1, ctr_z_test1, cmap=cm.coolwarm)\n",
        "axs[0].set_xlabel('x')\n",
        "axs[0].set_ylabel('y')\n",
        "axs[1].set_xlabel('x')\n",
        "axs[1].set_ylabel('y')\n",
        "cbar = fig.colorbar(pred1)\n",
        "cbar.ax.set_ylabel('PINN $u$ value')\n",
        "\n",
        "cbar = fig.colorbar(test1)\n",
        "cbar.ax.set_ylabel('CFD $u$ value')\n",
        "\n",
        "# fig.suptitle('PINN vs CFD data at t=95')\n",
        "\n",
        "plt.savefig('comparison.eps', bbox_inches='tight', dpi=300)\n",
        "plt.show()"
      ],
      "metadata": {
        "colab": {
          "base_uri": "https://localhost:8080/",
          "height": 538
        },
        "id": "rvnXBdmcAND7",
        "outputId": "7e3c2bb0-5126-4840-b123-f152311ea3f5"
      },
      "execution_count": 496,
      "outputs": [
        {
          "output_type": "stream",
          "name": "stdout",
          "text": [
            "X.shape =  (23768, 1)\n",
            "Y.shape =  (23768, 1)\n",
            "Z_pred.shape =  (23768, 1)\n",
            "Z_test.shape =  (23768, 1)\n"
          ]
        },
        {
          "output_type": "display_data",
          "data": {
            "text/plain": [
              "<Figure size 640x480 with 4 Axes>"
            ],
            "image/png": "[encoded data removed]"
          },
          "metadata": {}
        }
      ]
    }
  ],
  "metadata": {
    "colab": {
      "provenance": [],
      "include_colab_link": true
    },
    "kernelspec": {
      "display_name": "Python 3",
      "name": "python3"
    },
    "language_info": {
      "name": "python"
    }
  },
  "nbformat": 4,
  "nbformat_minor": 0
}