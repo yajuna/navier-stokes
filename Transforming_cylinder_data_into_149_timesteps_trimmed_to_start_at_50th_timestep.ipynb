{
 "cells": [
  {
   "cell_type": "code",
   "execution_count": 1,
   "metadata": {},
   "outputs": [],
   "source": [
    "import pandas as pd\n",
    "import numpy as np\n",
    "from scipy import io\n",
    "import scipy.io\n",
    "\n",
    "\n",
    "# Set the current working directory\n",
    "import os\n",
    "os.chdir(r\"C:/Users/Yoshi/Documents/GitHub/flow_around_cylinder/RUN_team_saipan_flow_around_cylinder_SHORTENED_TRIMMED_200_timesteps/postprocessing/\")\n"
   ]
  },
  {
   "cell_type": "code",
   "execution_count": 20,
   "metadata": {},
   "outputs": [],
   "source": [
    "# Define the number of time steps and variables\n",
    "num_time_steps = 149\n",
    "time_step_size = 149\n",
    "start_time_step = 51\n",
    "\n",
    "# Initialize lists to store data for each variable\n",
    "points_data = []\n",
    "u_data = []\n",
    "p_data = []\n",
    "\n",
    "\n",
    "# Create t array starting from the 50th time step\n",
    "t = np.arange(start_time_step * time_step_size, (start_time_step + num_time_steps) * time_step_size, time_step_size).reshape(-1, 1)\n",
    "\n",
    "# Load data from CSV files starting from the 50th time step\n",
    "for timestep in range(start_time_step, start_time_step + num_time_steps):\n",
    "    filename = f\"extract_{timestep}.csv\"\n",
    "    df = pd.read_csv(filename)  # Load CSV into DataFrame\n",
    "    points_data.append(df[['Points:0', 'Points:1']].values)  # Extract points data\n",
    "    u_data.append(df[['U:0','U:1']].values)  # Extract velocity data\n",
    "    p_data.append(df['p'].values)  # Extract pressure data\n",
    "\n",
    "# Convert data to NumPy arrays\n",
    "points_data = np.array(points_data).transpose(1, 2, 0)  # Transpose points_data\n",
    "sliced_points_data = points_data[:, :, 0]\n",
    "u_data = np.array(u_data).transpose(1, 2, 0)  # Transpose u_data\n",
    "p_data = np.array(p_data).T\n",
    "\n",
    "# Create a dictionary to store the data\n",
    "data_cube = {\n",
    "    'X_star': sliced_points_data,\n",
    "    't': t,\n",
    "    'U_star': u_data,\n",
    "    'p_star': p_data\n",
    "}\n",
    "\n",
    "# Save data as .mat file\n",
    "io.savemat('data_cube_shortened_200_TRIMMED.mat', data_cube)\n"
   ]
  },
  {
   "cell_type": "code",
   "execution_count": 11,
   "metadata": {},
   "outputs": [
    {
     "data": {
      "text/plain": [
       "(8990, 2)"
      ]
     },
     "execution_count": 11,
     "metadata": {},
     "output_type": "execute_result"
    }
   ],
   "source": [
    "sliced_points_data.shape #Shape is (23768, 2, 100)"
   ]
  },
  {
   "cell_type": "code",
   "execution_count": 15,
   "metadata": {},
   "outputs": [
    {
     "name": "stdout",
     "output_type": "stream",
     "text": [
      "dict_keys(['__header__', '__version__', '__globals__', 'X_star', 't', 'U_star', 'p_star'])\n"
     ]
    }
   ],
   "source": [
    "data = scipy.io.loadmat(r\"C:/Users/Yoshi/Documents/GitHub/flow_around_cylinder/RUN_team_saipan_flow_around_cylinder_SHORTENED_TRIMMED_200_timesteps/postprocessing/data_cube_shortened_200_TRIMMED.mat\")\n",
    "print(data.keys())\n",
    "\n",
    "\n"
   ]
  },
  {
   "cell_type": "code",
   "execution_count": 16,
   "metadata": {
    "scrolled": true
   },
   "outputs": [
    {
     "name": "stdout",
     "output_type": "stream",
     "text": [
      "(8990, 2)\n"
     ]
    },
    {
     "data": {
      "text/plain": [
       "array([[-15.    ,  -4.    ],\n",
       "       [-14.5   ,  -4.    ],\n",
       "       [-14.    ,  -4.    ],\n",
       "       [-13.5   ,  -4.    ],\n",
       "       [-13.    ,  -4.    ],\n",
       "       [-12.5   ,  -4.    ],\n",
       "       [-12.    ,  -4.    ],\n",
       "       [-11.5   ,  -4.    ],\n",
       "       [-11.    ,  -4.    ],\n",
       "       [-10.5   ,  -4.    ],\n",
       "       [-10.    ,  -4.    ],\n",
       "       [-15.    ,  -4.    ],\n",
       "       [-14.5   ,  -4.    ],\n",
       "       [-14.    ,  -4.    ],\n",
       "       [-13.5   ,  -4.    ],\n",
       "       [-13.    ,  -4.    ],\n",
       "       [-12.5   ,  -4.    ],\n",
       "       [-12.    ,  -4.    ],\n",
       "       [-11.5   ,  -4.    ],\n",
       "       [-11.    ,  -4.    ],\n",
       "       [-10.5   ,  -4.    ],\n",
       "       [-10.    ,  -4.    ],\n",
       "       [-15.    ,  -3.7333],\n",
       "       [-14.5   ,  -3.7333],\n",
       "       [-14.    ,  -3.7333],\n",
       "       [-13.5   ,  -3.7333],\n",
       "       [-13.    ,  -3.7333],\n",
       "       [-12.5   ,  -3.7333],\n",
       "       [-12.    ,  -3.7333],\n",
       "       [-11.5   ,  -3.7333],\n",
       "       [-11.    ,  -3.7333],\n",
       "       [-10.5   ,  -3.7333],\n",
       "       [-10.    ,  -3.7333],\n",
       "       [-15.    ,  -3.7333],\n",
       "       [-14.5   ,  -3.7333],\n",
       "       [-14.    ,  -3.7333],\n",
       "       [-13.5   ,  -3.7333],\n",
       "       [-13.    ,  -3.7333],\n",
       "       [-12.5   ,  -3.7333],\n",
       "       [-12.    ,  -3.7333],\n",
       "       [-11.5   ,  -3.7333],\n",
       "       [-11.    ,  -3.7333],\n",
       "       [-10.5   ,  -3.7333],\n",
       "       [-10.    ,  -3.7333],\n",
       "       [-15.    ,  -3.4667],\n",
       "       [-14.5   ,  -3.4667],\n",
       "       [-14.    ,  -3.4667],\n",
       "       [-13.5   ,  -3.4667],\n",
       "       [-13.    ,  -3.4667],\n",
       "       [-12.5   ,  -3.4667]])"
      ]
     },
     "execution_count": 16,
     "metadata": {},
     "output_type": "execute_result"
    }
   ],
   "source": [
    "X_star = data['X_star']\n",
    "print(X_star.shape)\n",
    "\n",
    "X_star[0:50]"
   ]
  },
  {
   "cell_type": "code",
   "execution_count": 17,
   "metadata": {},
   "outputs": [
    {
     "name": "stdout",
     "output_type": "stream",
     "text": [
      "(149, 1)\n"
     ]
    },
    {
     "data": {
      "text/plain": [
       "array([[ 7599],\n",
       "       [ 7748],\n",
       "       [ 7897],\n",
       "       [ 8046],\n",
       "       [ 8195],\n",
       "       [ 8344],\n",
       "       [ 8493],\n",
       "       [ 8642],\n",
       "       [ 8791],\n",
       "       [ 8940],\n",
       "       [ 9089],\n",
       "       [ 9238],\n",
       "       [ 9387],\n",
       "       [ 9536],\n",
       "       [ 9685],\n",
       "       [ 9834],\n",
       "       [ 9983],\n",
       "       [10132],\n",
       "       [10281],\n",
       "       [10430],\n",
       "       [10579],\n",
       "       [10728],\n",
       "       [10877],\n",
       "       [11026],\n",
       "       [11175],\n",
       "       [11324],\n",
       "       [11473],\n",
       "       [11622],\n",
       "       [11771],\n",
       "       [11920],\n",
       "       [12069],\n",
       "       [12218],\n",
       "       [12367],\n",
       "       [12516],\n",
       "       [12665],\n",
       "       [12814],\n",
       "       [12963],\n",
       "       [13112],\n",
       "       [13261],\n",
       "       [13410],\n",
       "       [13559],\n",
       "       [13708],\n",
       "       [13857],\n",
       "       [14006],\n",
       "       [14155],\n",
       "       [14304],\n",
       "       [14453],\n",
       "       [14602],\n",
       "       [14751],\n",
       "       [14900],\n",
       "       [15049],\n",
       "       [15198],\n",
       "       [15347],\n",
       "       [15496],\n",
       "       [15645],\n",
       "       [15794],\n",
       "       [15943],\n",
       "       [16092],\n",
       "       [16241],\n",
       "       [16390],\n",
       "       [16539],\n",
       "       [16688],\n",
       "       [16837],\n",
       "       [16986],\n",
       "       [17135],\n",
       "       [17284],\n",
       "       [17433],\n",
       "       [17582],\n",
       "       [17731],\n",
       "       [17880],\n",
       "       [18029],\n",
       "       [18178],\n",
       "       [18327],\n",
       "       [18476],\n",
       "       [18625],\n",
       "       [18774],\n",
       "       [18923],\n",
       "       [19072],\n",
       "       [19221],\n",
       "       [19370],\n",
       "       [19519],\n",
       "       [19668],\n",
       "       [19817],\n",
       "       [19966],\n",
       "       [20115],\n",
       "       [20264],\n",
       "       [20413],\n",
       "       [20562],\n",
       "       [20711],\n",
       "       [20860],\n",
       "       [21009],\n",
       "       [21158],\n",
       "       [21307],\n",
       "       [21456],\n",
       "       [21605],\n",
       "       [21754],\n",
       "       [21903],\n",
       "       [22052],\n",
       "       [22201],\n",
       "       [22350],\n",
       "       [22499],\n",
       "       [22648],\n",
       "       [22797],\n",
       "       [22946],\n",
       "       [23095],\n",
       "       [23244],\n",
       "       [23393],\n",
       "       [23542],\n",
       "       [23691],\n",
       "       [23840],\n",
       "       [23989],\n",
       "       [24138],\n",
       "       [24287],\n",
       "       [24436],\n",
       "       [24585],\n",
       "       [24734],\n",
       "       [24883],\n",
       "       [25032],\n",
       "       [25181],\n",
       "       [25330],\n",
       "       [25479],\n",
       "       [25628],\n",
       "       [25777],\n",
       "       [25926],\n",
       "       [26075],\n",
       "       [26224],\n",
       "       [26373],\n",
       "       [26522],\n",
       "       [26671],\n",
       "       [26820],\n",
       "       [26969],\n",
       "       [27118],\n",
       "       [27267],\n",
       "       [27416],\n",
       "       [27565],\n",
       "       [27714],\n",
       "       [27863],\n",
       "       [28012],\n",
       "       [28161],\n",
       "       [28310],\n",
       "       [28459],\n",
       "       [28608],\n",
       "       [28757],\n",
       "       [28906],\n",
       "       [29055],\n",
       "       [29204],\n",
       "       [29353],\n",
       "       [29502],\n",
       "       [29651]])"
      ]
     },
     "execution_count": 17,
     "metadata": {},
     "output_type": "execute_result"
    }
   ],
   "source": [
    "t = data['t']\n",
    "print(t.shape)\n",
    "\n",
    "t"
   ]
  },
  {
   "cell_type": "code",
   "execution_count": 18,
   "metadata": {
    "scrolled": true
   },
   "outputs": [
    {
     "name": "stdout",
     "output_type": "stream",
     "text": [
      "(8990, 2, 149)\n"
     ]
    },
    {
     "data": {
      "text/plain": [
       "array([[[ 0.0000e+00,  0.0000e+00,  0.0000e+00, ...,  0.0000e+00,\n",
       "          0.0000e+00,  0.0000e+00],\n",
       "        [ 5.0000e-01,  5.0000e-01,  5.0000e-01, ...,  5.0000e-01,\n",
       "          5.0000e-01,  5.0000e-01]],\n",
       "\n",
       "       [[ 0.0000e+00,  0.0000e+00,  0.0000e+00, ...,  0.0000e+00,\n",
       "          0.0000e+00,  0.0000e+00],\n",
       "        [ 0.0000e+00,  0.0000e+00,  0.0000e+00, ...,  0.0000e+00,\n",
       "          0.0000e+00,  0.0000e+00]],\n",
       "\n",
       "       [[ 0.0000e+00,  0.0000e+00,  0.0000e+00, ...,  0.0000e+00,\n",
       "          0.0000e+00,  0.0000e+00],\n",
       "        [ 0.0000e+00,  0.0000e+00,  0.0000e+00, ...,  0.0000e+00,\n",
       "          0.0000e+00,  0.0000e+00]],\n",
       "\n",
       "       ...,\n",
       "\n",
       "       [[ 0.0000e+00,  0.0000e+00,  0.0000e+00, ...,  0.0000e+00,\n",
       "          0.0000e+00,  0.0000e+00],\n",
       "        [ 0.0000e+00,  0.0000e+00,  0.0000e+00, ...,  0.0000e+00,\n",
       "          0.0000e+00,  0.0000e+00]],\n",
       "\n",
       "       [[ 0.0000e+00,  0.0000e+00,  0.0000e+00, ...,  0.0000e+00,\n",
       "          0.0000e+00,  0.0000e+00],\n",
       "        [ 0.0000e+00,  0.0000e+00,  0.0000e+00, ...,  0.0000e+00,\n",
       "          0.0000e+00,  0.0000e+00]],\n",
       "\n",
       "       [[-3.3294e-05, -4.7181e-05, -6.8849e-05, ...,  1.0226e-04,\n",
       "         -3.9762e-04, -6.6458e-04],\n",
       "        [ 7.6580e-02,  7.5945e-02,  7.5398e-02, ...,  7.1285e-02,\n",
       "          7.1095e-02,  7.4619e-02]]])"
      ]
     },
     "execution_count": 18,
     "metadata": {},
     "output_type": "execute_result"
    }
   ],
   "source": [
    "u_star = data['U_star']\n",
    "print(u_star.shape)\n",
    "\n",
    "u_star"
   ]
  },
  {
   "cell_type": "code",
   "execution_count": 19,
   "metadata": {},
   "outputs": [
    {
     "name": "stdout",
     "output_type": "stream",
     "text": [
      "(8990, 149)\n"
     ]
    },
    {
     "data": {
      "text/plain": [
       "array([[ 4.7570e-01,  4.7604e-01,  4.7641e-01, ...,  4.6887e-01,\n",
       "         4.6886e-01,  4.6855e-01],\n",
       "       [ 4.3424e-01,  4.3459e-01,  4.3496e-01, ...,  4.2742e-01,\n",
       "         4.2741e-01,  4.2710e-01],\n",
       "       [ 3.8623e-01,  3.8658e-01,  3.8695e-01, ...,  3.7940e-01,\n",
       "         3.7940e-01,  3.7909e-01],\n",
       "       ...,\n",
       "       [ 1.1180e-03,  1.0696e-03,  1.0646e-03, ..., -7.8991e-04,\n",
       "         1.4163e-03,  3.3725e-03],\n",
       "       [ 5.6183e-04,  5.1522e-04,  4.8151e-04, ..., -4.4073e-04,\n",
       "         3.9453e-04,  1.1819e-03],\n",
       "       [ 8.6097e-05,  5.9218e-05,  2.9522e-05, ..., -6.3989e-05,\n",
       "        -1.1308e-04, -1.8871e-04]])"
      ]
     },
     "execution_count": 19,
     "metadata": {},
     "output_type": "execute_result"
    }
   ],
   "source": [
    "p = data['p_star']\n",
    "print(p.shape)\n",
    "p"
   ]
  }
 ],
 "metadata": {
  "kernelspec": {
   "display_name": "Python 3",
   "language": "python",
   "name": "python3"
  },
  "language_info": {
   "codemirror_mode": {
    "name": "ipython",
    "version": 3
   },
   "file_extension": ".py",
   "mimetype": "text/x-python",
   "name": "python",
   "nbconvert_exporter": "python",
   "pygments_lexer": "ipython3",
   "version": "3.7.3"
  }
 },
 "nbformat": 4,
 "nbformat_minor": 2
}
